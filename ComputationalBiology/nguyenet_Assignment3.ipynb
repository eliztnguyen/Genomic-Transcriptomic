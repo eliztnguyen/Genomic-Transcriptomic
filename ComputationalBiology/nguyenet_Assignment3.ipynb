{
 "cells": [
  {
   "cell_type": "markdown",
   "metadata": {},
   "source": [
    "# Assignment #3"
   ]
  },
  {
   "cell_type": "markdown",
   "metadata": {},
   "source": [
    "Write a function (or functions) to find all ORFs in a sequence string. Since we are only\n",
    "interested in relatively long ORFs, the function should only return those ORFs longer\n",
    "than an input threshold value. Compute the length of the ORFs as the number of codons\n",
    "(counting the start and stop codon). The start codon is “ATG”. The stop codons are\n",
    "“TAG”, “TAA”, and “TGA”.\n",
    "\n",
    "The inputs to the function should be the sequence string and the threshold value. The\n",
    "output should be a list of lists. The length of the list should be the number of ORFs. Each\n",
    "element of the list should be another list with two numbers describing an individual ORF:\n",
    "the nucleotide position of the first position of the start codon and the nucleotide position\n",
    "of the first position of the in-frame stop codon.\n",
    "\n",
    "For the example:\n",
    "sequence = AATGCCCAAATGCTTTTAAAACCCATGTAGC\n",
    "Your code (with threshold 5) should return [[1,16],[9,27]]."
   ]
  },
  {
   "cell_type": "markdown",
   "metadata": {},
   "source": [
    "## Write and test function"
   ]
  },
  {
   "cell_type": "markdown",
   "metadata": {},
   "source": [
    "Make test sequence"
   ]
  },
  {
   "cell_type": "code",
   "execution_count": 14,
   "metadata": {},
   "outputs": [],
   "source": [
    "testseq = \"AATGCCCAAATGCTTTTAAAACCCATGTAGC\""
   ]
  },
  {
   "cell_type": "markdown",
   "metadata": {},
   "source": [
    "Function"
   ]
  },
  {
   "cell_type": "code",
   "execution_count": 15,
   "metadata": {},
   "outputs": [],
   "source": [
    "def ORFall(seq, thres):\n",
    "    \"\"\"finds all Open Reading Frames in 'seq' with at least 'thres\" number of codons\"\"\"\n",
    "    ORFs = []  # keeps track of in frame ORFs, listing positions of beginning of start and stop codons\n",
    "    startcod = \"ATG\"\n",
    "    stopcod = [\"TAG\", \"TAA\", \"TGA\"]\n",
    "    for i in range(len(seq)):\n",
    "        if seq[i:(i+3)] == startcod:  # if first three bases, beginning with 'i' is 'startcod'\n",
    "            codons = 0  # keeps count of total codons in ORF\n",
    "            stopPos = -1 # placeholder for position of stop codon\n",
    "            for j in range(i, len(seq), 3):  # walks through sequence, three bases (one codon) at a time, starting with 'i'\n",
    "                codons += 1  # increments 'codons' count by 1\n",
    "                if seq[j:(j+3)] in stopcod:  # if codon in 'stopcod'\n",
    "                    stopPos = j # updates position of stop codon\n",
    "                    break  # breaks out of 'for loop'\n",
    "            if stopPos != -1:  # stopPos would only update IF the stopcodon was found in the sequence (in frame)\n",
    "                if codons >= thres:  # assesses if 'codons' is greater than or equal to 'thres'\n",
    "                    ORFs.append([i, j])\n",
    "    return ORFs"
   ]
  },
  {
   "cell_type": "markdown",
   "metadata": {},
   "source": [
    "Test function."
   ]
  },
  {
   "cell_type": "code",
   "execution_count": 16,
   "metadata": {},
   "outputs": [
    {
     "name": "stdout",
     "output_type": "stream",
     "text": [
      "[[1, 16], [9, 27], [24, 27]]\n"
     ]
    }
   ],
   "source": [
    "testFun = ORFall(testseq, 2)\n",
    "print(testFun)"
   ]
  },
  {
   "cell_type": "markdown",
   "metadata": {},
   "source": [
    "## Apply function"
   ]
  },
  {
   "cell_type": "markdown",
   "metadata": {},
   "source": [
    "1) Use the “loadFASTA” function from “lecture2functions.py” to study the “ACE2.fasta” file from Lecture 2. "
   ]
  },
  {
   "cell_type": "markdown",
   "metadata": {},
   "source": [
    "Import lecture2functions and read in 'fasta' file."
   ]
  },
  {
   "cell_type": "code",
   "execution_count": 17,
   "metadata": {},
   "outputs": [],
   "source": [
    "import lecture2functions as f2\n",
    "ACE2 = f2.loadFASTA(\"ACE2.fasta\")"
   ]
  },
  {
   "cell_type": "markdown",
   "metadata": {},
   "source": [
    "2) Use your new ORF-finding function, with threshold 700, to find all ORFs."
   ]
  },
  {
   "cell_type": "code",
   "execution_count": 18,
   "metadata": {},
   "outputs": [
    {
     "name": "stdout",
     "output_type": "stream",
     "text": [
      "[[49, 2464], [232, 2464], [292, 2464]]\n",
      "3\n"
     ]
    }
   ],
   "source": [
    "ACE2_ORFS = ORFall(ACE2, 700)\n",
    "print(ACE2_ORFS)\n",
    "print(len(ACE2_ORFS))"
   ]
  },
  {
   "cell_type": "markdown",
   "metadata": {},
   "source": [
    "Using a threshold length of 700 codons, the forward strand of ACE2 ('ACE2.fasta' file) has 3 ORFs. Each of the three ORF has a unique start codon. However, all three ORFs have the same stop codon at position 2464. This was possible because \"ATG\" also codes for the amino acid methionine, in addition to being a start codon in eukaryotes."
   ]
  },
  {
   "cell_type": "markdown",
   "metadata": {},
   "source": [
    "3) Use the “revcomp” function also from “lecture2functions.py” to find all ORFs (if there are any) on the opposite strand."
   ]
  },
  {
   "cell_type": "code",
   "execution_count": 19,
   "metadata": {},
   "outputs": [
    {
     "name": "stdout",
     "output_type": "stream",
     "text": [
      "[]\n"
     ]
    }
   ],
   "source": [
    "ACE2rev = f2.revcomp(ACE2)  # f2.revcomp returns the reverse complement of seq\n",
    "ACE2rev_ORFS = ORFall(ACE2rev, 700)\n",
    "print(ACE2rev_ORFS)"
   ]
  },
  {
   "cell_type": "markdown",
   "metadata": {},
   "source": [
    "Using a threshold length of 700 codons, there are no ORFs on the reverse complement strand of ACE2."
   ]
  }
 ],
 "metadata": {
  "kernelspec": {
   "display_name": "Python 3",
   "language": "python",
   "name": "python3"
  },
  "language_info": {
   "codemirror_mode": {
    "name": "ipython",
    "version": 3
   },
   "file_extension": ".py",
   "mimetype": "text/x-python",
   "name": "python",
   "nbconvert_exporter": "python",
   "pygments_lexer": "ipython3",
   "version": "3.7.6"
  }
 },
 "nbformat": 4,
 "nbformat_minor": 4
}
