{
 "cells": [
  {
   "cell_type": "markdown",
   "metadata": {},
   "source": [
    "# Assignment #1"
   ]
  },
  {
   "cell_type": "markdown",
   "metadata": {},
   "source": [
    "# A. Turn in the code for the three Python functions."
   ]
  },
  {
   "cell_type": "markdown",
   "metadata": {},
   "source": [
    "## Prompt 1"
   ]
  },
  {
   "cell_type": "markdown",
   "metadata": {},
   "source": [
    "1) Write a Python function that takes as input a sequence string and returns a list with 4 entries that are the number of A, C, G, and T in the sequence."
   ]
  },
  {
   "cell_type": "markdown",
   "metadata": {},
   "source": [
    "Make test code."
   ]
  },
  {
   "cell_type": "code",
   "execution_count": 1,
   "metadata": {},
   "outputs": [],
   "source": [
    "jiggy = \"ATGTTTTATCCAGGTGATTAA\""
   ]
  },
  {
   "cell_type": "markdown",
   "metadata": {},
   "source": [
    "Function for prompt 1.\n",
    "\n",
    "Function requires one input: \n",
    "    a sequence string\n",
    "    \n",
    "Creates a variable for a each base and assigns all to a value of zero.\n",
    "Steps through the sequence, one base at a time, and increases the count for each base as the loop progresses through the sequence.\n",
    "Creates a list of list of 4 entries with each base and its associated count for said sequence.\n",
    "Return the list of list of base counts."
   ]
  },
  {
   "cell_type": "code",
   "execution_count": 2,
   "metadata": {},
   "outputs": [],
   "source": [
    "def baseNum(seq):\n",
    "    '''counts how many times each base appears in sequence'''\n",
    "    Abase = 0\n",
    "    Cbase = 0\n",
    "    Gbase = 0\n",
    "    Tbase = 0\n",
    "    for base in seq:\n",
    "        if base == \"A\":\n",
    "            Abase += 1\n",
    "        elif base == \"C\":\n",
    "            Cbase += 1\n",
    "        elif base == \"G\":\n",
    "            Gbase += 1\n",
    "        elif base == \"T\":\n",
    "            Tbase += 1\n",
    "    baseAll = [\"A: \" + str(Abase),\n",
    "               \"C: \" + str(Cbase),\n",
    "               \"G: \" + str(Gbase),\n",
    "               \"T: \" + str(Tbase)\n",
    "               ]\n",
    "    return baseAll"
   ]
  },
  {
   "cell_type": "markdown",
   "metadata": {},
   "source": [
    "Test function using previously defined test code."
   ]
  },
  {
   "cell_type": "code",
   "execution_count": 3,
   "metadata": {},
   "outputs": [
    {
     "name": "stdout",
     "output_type": "stream",
     "text": [
      "['A: 6', 'C: 2', 'G: 4', 'T: 9']\n"
     ]
    }
   ],
   "source": [
    "print(baseNum(jiggy))"
   ]
  },
  {
   "cell_type": "markdown",
   "metadata": {},
   "source": [
    "## Prompt 2"
   ]
  },
  {
   "cell_type": "markdown",
   "metadata": {},
   "source": [
    "2) Write another Python function that takes two inputs: a sequence string and a string of two letters (e.g., “CG” or “CT”). This function returns the number of times the two letters occur consecutively in the sequence."
   ]
  },
  {
   "cell_type": "markdown",
   "metadata": {},
   "source": [
    "Function for prompt 2.\n",
    "\n",
    "Function requires 2 in puts: \n",
    "    1) a sequence string\n",
    "    2) a string of 2 bases, creating the 'basePair' of interest\n",
    "    \n",
    "Creates a variable called 'paircount' for the count of the number of 'basePair' encountered.\n",
    "Steps through the sequence, and looks at two bases at a time, but incrementing through the sequence one base at a time.\n",
    "    Assigns the two base string to the variable 'temp'.\n",
    "    Compares the 'temp' variable to the 'basePair' input.\n",
    "    If they match, increase the 'paircount' by 1.\n",
    "    Increment i by 1, then continue through the while loop.\n",
    "Return 'basePair' with its frequency in the sequence, which was tracked in 'paircount'."
   ]
  },
  {
   "cell_type": "code",
   "execution_count": 4,
   "metadata": {},
   "outputs": [],
   "source": [
    "def countPair(seq, basePair):\n",
    "    '''counts how many times a pair of bases appears in sequence'''\n",
    "    paircount = 0\n",
    "    i = 0\n",
    "    while i < len(seq):\n",
    "        temp = str(seq[i:(i+2)])\n",
    "        if temp == basePair:\n",
    "            paircount += 1\n",
    "        i += 1\n",
    "    return basePair + \": \" + str(paircount)"
   ]
  },
  {
   "cell_type": "markdown",
   "metadata": {},
   "source": [
    "Test function using previously defined test code."
   ]
  },
  {
   "cell_type": "code",
   "execution_count": 5,
   "metadata": {},
   "outputs": [
    {
     "name": "stdout",
     "output_type": "stream",
     "text": [
      "ATGTTTTATCCAGGTGATTAA\n",
      "AT: 3\n",
      "TT: 4\n"
     ]
    }
   ],
   "source": [
    "print(jiggy)\n",
    "print(countPair(jiggy, \"AT\"))\n",
    "print(countPair(jiggy, \"TT\"))"
   ]
  },
  {
   "cell_type": "markdown",
   "metadata": {},
   "source": [
    "## Prompt 3"
   ]
  },
  {
   "cell_type": "markdown",
   "metadata": {},
   "source": [
    "3) Write another Python function that takes as input a sequence string and returns a list with 16 entries that are the outputs of function #2 for all 16 possible two letter strings."
   ]
  },
  {
   "cell_type": "markdown",
   "metadata": {},
   "source": [
    "Function for prompt 3.\n",
    "\n",
    "Function requires one input: \n",
    "    a sequence string\n",
    "    \n",
    "Creates an empty list called 'allCount'.\n",
    "For said sequence, runs the function 'countPair' for all 16 combination of 2 base pairs.\n",
    "    Append the result for each 'countPair' run to the 'allCount' list.\n",
    "Returns 'allCount' list with count of each combination of 2 base pairs."
   ]
  },
  {
   "cell_type": "code",
   "execution_count": 6,
   "metadata": {},
   "outputs": [],
   "source": [
    "def allPairCount(seq):\n",
    "    '''counts how many times each pair of bases appear in sequence'''\n",
    "    allCount = []\n",
    "    allCount.append(countPair(seq, \"AA\"))\n",
    "    allCount.append(countPair(seq, \"AT\"))\n",
    "    allCount.append(countPair(seq, \"AC\"))\n",
    "    allCount.append(countPair(seq, \"AG\"))\n",
    "    allCount.append(countPair(seq, \"TA\"))\n",
    "    allCount.append(countPair(seq, \"TT\"))\n",
    "    allCount.append(countPair(seq, \"TC\"))\n",
    "    allCount.append(countPair(seq, \"TG\"))\n",
    "    allCount.append(countPair(seq, \"CA\"))\n",
    "    allCount.append(countPair(seq, \"CT\"))\n",
    "    allCount.append(countPair(seq, \"CC\"))\n",
    "    allCount.append(countPair(seq, \"CG\"))\n",
    "    allCount.append(countPair(seq, \"GA\"))\n",
    "    allCount.append(countPair(seq, \"GT\"))\n",
    "    allCount.append(countPair(seq, \"GC\"))\n",
    "    allCount.append(countPair(seq, \"GG\"))\n",
    "    return allCount"
   ]
  },
  {
   "cell_type": "markdown",
   "metadata": {},
   "source": [
    "Test function using previously defined test code."
   ]
  },
  {
   "cell_type": "code",
   "execution_count": 7,
   "metadata": {},
   "outputs": [
    {
     "name": "stdout",
     "output_type": "stream",
     "text": [
      "ATGTTTTATCCAGGTGATTAA\n"
     ]
    },
    {
     "data": {
      "text/plain": [
       "['AA: 1',\n",
       " 'AT: 3',\n",
       " 'AC: 0',\n",
       " 'AG: 1',\n",
       " 'TA: 2',\n",
       " 'TT: 4',\n",
       " 'TC: 1',\n",
       " 'TG: 2',\n",
       " 'CA: 1',\n",
       " 'CT: 0',\n",
       " 'CC: 1',\n",
       " 'CG: 0',\n",
       " 'GA: 1',\n",
       " 'GT: 2',\n",
       " 'GC: 0',\n",
       " 'GG: 1']"
      ]
     },
     "execution_count": 7,
     "metadata": {},
     "output_type": "execute_result"
    }
   ],
   "source": [
    "print(jiggy)\n",
    "allPairCount(jiggy)"
   ]
  },
  {
   "cell_type": "markdown",
   "metadata": {},
   "source": [
    "# B. For each of the two FASTA files, turn in the output of functions #1 and #3."
   ]
  },
  {
   "cell_type": "markdown",
   "metadata": {},
   "source": [
    "Import python script with function for reading in FASTA files"
   ]
  },
  {
   "cell_type": "code",
   "execution_count": 8,
   "metadata": {},
   "outputs": [],
   "source": [
    "import lecture2functions as f2"
   ]
  },
  {
   "cell_type": "markdown",
   "metadata": {},
   "source": [
    "Load FASTA files for the human gene PTPN11 and it’s Drosophila orthologue csw.\n",
    "Look at beginning of each sequence, as well as the length of each sequence."
   ]
  },
  {
   "cell_type": "code",
   "execution_count": 9,
   "metadata": {},
   "outputs": [
    {
     "name": "stdout",
     "output_type": "stream",
     "text": [
      "AGTCTCCGGGATCCCCAGGC\n",
      "6073\n",
      "ATTCATTCATACCCCAGCGC\n",
      "7664\n"
     ]
    }
   ],
   "source": [
    "PTPN11 = f2.loadFASTA(\"PTPN11.fasta\")\n",
    "print(PTPN11[0:20])\n",
    "print(len(PTPN11))\n",
    "\n",
    "csw = f2.loadFASTA(\"csw.fasta\")\n",
    "print(csw[0:20])\n",
    "print(len(csw))"
   ]
  },
  {
   "cell_type": "markdown",
   "metadata": {},
   "source": [
    "## PTPN11"
   ]
  },
  {
   "cell_type": "markdown",
   "metadata": {},
   "source": [
    "1) Count how many times each base appears in the sequence (function #1)."
   ]
  },
  {
   "cell_type": "code",
   "execution_count": 10,
   "metadata": {},
   "outputs": [
    {
     "data": {
      "text/plain": [
       "['A: 1773', 'C: 1139', 'G: 1410', 'T: 1751']"
      ]
     },
     "execution_count": 10,
     "metadata": {},
     "output_type": "execute_result"
    }
   ],
   "source": [
    "baseNum(PTPN11)"
   ]
  },
  {
   "cell_type": "markdown",
   "metadata": {},
   "source": [
    "2) Count how many times each pair of bases appear in the sequence (fucntion #3)."
   ]
  },
  {
   "cell_type": "code",
   "execution_count": 11,
   "metadata": {},
   "outputs": [
    {
     "data": {
      "text/plain": [
       "['AA: 595',\n",
       " 'AT: 438',\n",
       " 'AC: 280',\n",
       " 'AG: 459',\n",
       " 'TA: 340',\n",
       " 'TT: 606',\n",
       " 'TC: 308',\n",
       " 'TG: 497',\n",
       " 'CA: 394',\n",
       " 'CT: 371',\n",
       " 'CC: 275',\n",
       " 'CG: 99',\n",
       " 'GA: 443',\n",
       " 'GT: 336',\n",
       " 'GC: 276',\n",
       " 'GG: 355']"
      ]
     },
     "execution_count": 11,
     "metadata": {},
     "output_type": "execute_result"
    }
   ],
   "source": [
    "allPairCount(PTPN11)"
   ]
  },
  {
   "cell_type": "markdown",
   "metadata": {},
   "source": [
    "## csw"
   ]
  },
  {
   "cell_type": "markdown",
   "metadata": {},
   "source": [
    "1) Count how many times each base appears in the sequence (function #1)."
   ]
  },
  {
   "cell_type": "code",
   "execution_count": 12,
   "metadata": {},
   "outputs": [
    {
     "data": {
      "text/plain": [
       "['A: 2395', 'C: 1876', 'G: 1675', 'T: 1718']"
      ]
     },
     "execution_count": 12,
     "metadata": {},
     "output_type": "execute_result"
    }
   ],
   "source": [
    "baseNum(csw)"
   ]
  },
  {
   "cell_type": "markdown",
   "metadata": {},
   "source": [
    "2) Count how many times each pair of bases appear in the sequence (fucntion #3)."
   ]
  },
  {
   "cell_type": "code",
   "execution_count": 13,
   "metadata": {},
   "outputs": [
    {
     "data": {
      "text/plain": [
       "['AA: 870',\n",
       " 'AT: 523',\n",
       " 'AC: 521',\n",
       " 'AG: 481',\n",
       " 'TA: 404',\n",
       " 'TT: 495',\n",
       " 'TC: 402',\n",
       " 'TG: 416',\n",
       " 'CA: 621',\n",
       " 'CT: 348',\n",
       " 'CC: 452',\n",
       " 'CG: 455',\n",
       " 'GA: 499',\n",
       " 'GT: 352',\n",
       " 'GC: 501',\n",
       " 'GG: 323']"
      ]
     },
     "execution_count": 13,
     "metadata": {},
     "output_type": "execute_result"
    }
   ],
   "source": [
    "allPairCount(csw)"
   ]
  },
  {
   "cell_type": "markdown",
   "metadata": {},
   "source": [
    "# C. Since humans have much higher rates of methylation than Drosophila, we would expect to see far fewer CpGs in humans. Is this what we see?"
   ]
  },
  {
   "cell_type": "markdown",
   "metadata": {},
   "source": [
    "\"The CpG sites or CG sites are regions of DNA where a cytosine nucleotide is followed by a guanine nucleotide in the linear sequence of bases along its 5' → 3' direction. CpG sites occur with high frequency in genomic regions called CpG islands\" (Wikipedia, accessed May 27, 2020)."
   ]
  },
  {
   "cell_type": "markdown",
   "metadata": {},
   "source": [
    "Determine number of CpGs in the human gene PTPN11."
   ]
  },
  {
   "cell_type": "code",
   "execution_count": 14,
   "metadata": {},
   "outputs": [
    {
     "data": {
      "text/plain": [
       "'CG: 99'"
      ]
     },
     "execution_count": 14,
     "metadata": {},
     "output_type": "execute_result"
    }
   ],
   "source": [
    "countPair(PTPN11, \"CG\")"
   ]
  },
  {
   "cell_type": "markdown",
   "metadata": {},
   "source": [
    "Determine number of CpGs in the Drosophila orthologue csw."
   ]
  },
  {
   "cell_type": "code",
   "execution_count": 15,
   "metadata": {},
   "outputs": [
    {
     "data": {
      "text/plain": [
       "'CG: 455'"
      ]
     },
     "execution_count": 15,
     "metadata": {},
     "output_type": "execute_result"
    }
   ],
   "source": [
    "countPair(csw, \"CG\")"
   ]
  },
  {
   "cell_type": "markdown",
   "metadata": {},
   "source": [
    "In support of our hypothesis, we see far fewer CpGs in the human PTPN11 compared to the Drosophila csw gene."
   ]
  }
 ],
 "metadata": {
  "kernelspec": {
   "display_name": "Python 3",
   "language": "python",
   "name": "python3"
  },
  "language_info": {
   "codemirror_mode": {
    "name": "ipython",
    "version": 3
   },
   "file_extension": ".py",
   "mimetype": "text/x-python",
   "name": "python",
   "nbconvert_exporter": "python",
   "pygments_lexer": "ipython3",
   "version": "3.7.6"
  }
 },
 "nbformat": 4,
 "nbformat_minor": 4
}
