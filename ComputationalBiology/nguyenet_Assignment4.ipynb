{
 "cells": [
  {
   "cell_type": "markdown",
   "metadata": {},
   "source": [
    "# Assignment #4"
   ]
  },
  {
   "cell_type": "markdown",
   "metadata": {},
   "source": [
    "## Part 1. This part does not involve computer programming."
   ]
  },
  {
   "cell_type": "markdown",
   "metadata": {},
   "source": [
    "In humans there are two sex chromosomes: X and Y. Males are XY and females are XX. In chickens there are also two sex chromosomes: Z and W. Males are ZZ and females are ZW.\n",
    "\n",
    "The question for this part is whether or not the human X chromosome is homologous to the chicken Z chromosome. We will answer this by using BLAST to align some human genes to the chicken genome and some chicken genes to the human genome (a more advanced study would include more genes than we are considering). If the genes on the human X chromosome map to the chicken Z chromosome (and vice versa), this supports the idea that the two species’ sex determination system had a common origin. If instead the genes on the human X chromosome map to chromosomes other than the chicken Z chromosome (and vice versa), this supports the idea that the two sex determination systems evolved independently."
   ]
  },
  {
   "cell_type": "markdown",
   "metadata": {},
   "source": [
    "Complete the following table:\n",
    "\n",
    "Inputed corresponding chicken chromosome (last column) for human gene.\n",
    "\n",
    "Inputed corresponding human chromosome (second to last column) for chicken gene."
   ]
  },
  {
   "cell_type": "markdown",
   "metadata": {},
   "source": [
    "Gene\tChromosome in Humans \tChromosome in Chicken\n",
    "\n",
    "Human Gene 1\t5 \tZ\n",
    "\n",
    "Human Gene 2\t5 \tZ\n",
    "\n",
    "Human Gene 3\t9 \tZ\n",
    "\n",
    "Human Gene 4\t9 \tZ\n",
    "\n",
    "Human Gene 5\tX\t1\n",
    "\n",
    "Human Gene 6\tX \t1\n",
    "\n",
    "Human Gene 7\tX \t4\n",
    "\n",
    "Chicken Gene 1\t22\t1 \n",
    "\n",
    "Chicken Gene 2\tX\t1 \n",
    "\n",
    "Chicken Gene 3\tX\t1 \n",
    "\n",
    "Chicken Gene 4\tX\t4\n",
    "\n",
    "Chicken Gene 5\t5\tZ\n",
    "\n",
    "Chicken Gene 6\t9\tZ\n",
    "\n",
    "Chicken Gene 7\t5\tZ"
   ]
  },
  {
   "cell_type": "markdown",
   "metadata": {},
   "source": [
    "Based on this information, do you think the human chromosome X and the chicken\n",
    "chromosome Z are homologous?"
   ]
  },
  {
   "cell_type": "markdown",
   "metadata": {},
   "source": [
    "The information in the table do not suggest that human chromosome X and the chicken chromosome Z are homologous. Genes on the human X chromosome do not map to the chicken Z chromosome, nor vice versa. Instead, the data supports the theory that the two sex determination systems evolved independently of one another."
   ]
  },
  {
   "cell_type": "markdown",
   "metadata": {},
   "source": [
    "## Part 2. This part does involve computer programming."
   ]
  },
  {
   "cell_type": "markdown",
   "metadata": {},
   "source": [
    "Consider the multiple sequence alignment file “part-ace2-multi.txt” in the Lecture 7 folder. Write a function (or functions) to go through all the alignment blocks in this file and count the number of positions where all 4 alleles appear (A, C, G, T). We are only going to count an allele if it appears as a CAPITAL letter."
   ]
  },
  {
   "cell_type": "code",
   "execution_count": 6,
   "metadata": {},
   "outputs": [],
   "source": [
    "# import regular expressions\n",
    "import re"
   ]
  },
  {
   "cell_type": "markdown",
   "metadata": {},
   "source": [
    "Function 1"
   ]
  },
  {
   "cell_type": "code",
   "execution_count": 7,
   "metadata": {},
   "outputs": [],
   "source": [
    "def ctPosACGT(listSeq):\n",
    "    '''counts positions where all four alleles are present across sequences'''\n",
    "    count = 0\n",
    "    for j in range(len(listSeq[0])):  # walks through each position in the specie sequence; all sequences same length\n",
    "        ctACTG = 0 # keeps count of how many bases found at said position\n",
    "        for base in 'ACGT':  # walks through each base alphabetically\n",
    "            for i in range(len(listSeq)):  # walks through each specie sequence\n",
    "                if listSeq[i][j] == base:\n",
    "                    ctACTG += 1  # increase 'ctACTG' by 1 if base is found\n",
    "                    break  # break out of loop for looking through each specie; moves onto next base\n",
    "        if ctACTG == 4:\n",
    "            count += 1\n",
    "    return count"
   ]
  },
  {
   "cell_type": "markdown",
   "metadata": {},
   "source": [
    "Main Function"
   ]
  },
  {
   "cell_type": "code",
   "execution_count": 8,
   "metadata": {},
   "outputs": [],
   "source": [
    "def allPosACGT(file):\n",
    "    '''looks across all blocks in multiple sequence alignment file,\n",
    "    and counts all positions where all four alleles are present across sequences'''\n",
    "    totPosACGT = 0  # keeps track of total count\n",
    "    infile = open(file)\n",
    "    for line in infile:\n",
    "        if re.match(\"a score\", line):  # new block found\n",
    "            speciesSeq = []  # keeps track of seq for each specie in block\n",
    "            for subLine in infile:\n",
    "                if re.match(\"s \", subLine):  # species found\n",
    "                    temp = re.split(\"\\s+\", subLine)\n",
    "                    speciesSeq.append(temp[6])\n",
    "                elif re.match(\"\\s+\", subLine):  # end of block found\n",
    "                    break  # break out of this loop\n",
    "            blockPosACGT = ctPosACGT(speciesSeq)  # for block, count # of positions with all bases ACGT\n",
    "            totPosACGT += blockPosACGT  # add to 'totPosACGT' count\n",
    "    infile.close()\n",
    "    return totPosACGT"
   ]
  },
  {
   "cell_type": "markdown",
   "metadata": {},
   "source": [
    "Run “part-ace2-multi.txt” through main function, which will go through all the alignment blocks in this file and count the number of positions where all 4 alleles appear (A, C, G, T). "
   ]
  },
  {
   "cell_type": "code",
   "execution_count": 9,
   "metadata": {},
   "outputs": [
    {
     "name": "stdout",
     "output_type": "stream",
     "text": [
      "22\n"
     ]
    }
   ],
   "source": [
    "ace2 = allPosACGT(\"part-ace2-multi.txt\")\n",
    "print(ace2)"
   ]
  }
 ],
 "metadata": {
  "kernelspec": {
   "display_name": "Python 3",
   "language": "python",
   "name": "python3"
  },
  "language_info": {
   "codemirror_mode": {
    "name": "ipython",
    "version": 3
   },
   "file_extension": ".py",
   "mimetype": "text/x-python",
   "name": "python",
   "nbconvert_exporter": "python",
   "pygments_lexer": "ipython3",
   "version": "3.7.6"
  }
 },
 "nbformat": 4,
 "nbformat_minor": 4
}
